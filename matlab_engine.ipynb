{
  "nbformat": 4,
  "nbformat_minor": 0,
  "metadata": {
    "colab": {
      "provenance": [],
      "collapsed_sections": [],
      "mount_file_id": "1qBMhHYOSfSifcuv2ZyuNXkMeuM-fbz2v",
      "authorship_tag": "ABX9TyM3rFWWk51eaF9yjv7QUt/h",
      "include_colab_link": true
    },
    "kernelspec": {
      "name": "python3",
      "display_name": "Python 3"
    },
    "language_info": {
      "name": "python"
    }
  },
  "cells": [
    {
      "cell_type": "markdown",
      "metadata": {
        "id": "view-in-github",
        "colab_type": "text"
      },
      "source": [
        "<a href=\"https://colab.research.google.com/github/Bigyuun/intelligent_control/blob/main/matlab_engine.ipynb\" target=\"_parent\"><img src=\"https://colab.research.google.com/assets/colab-badge.svg\" alt=\"Open In Colab\"/></a>"
      ]
    },
    {
      "cell_type": "code",
      "execution_count": null,
      "metadata": {
        "id": "p15GrhK0pfVs",
        "colab": {
          "base_uri": "https://localhost:8080/"
        },
        "outputId": "ca826bdc-585e-4042-9b1a-5aece234b585"
      },
      "outputs": [
        {
          "output_type": "stream",
          "name": "stdout",
          "text": [
            "Drive already mounted at /content/drive; to attempt to forcibly remount, call drive.mount(\"/content/drive\", force_remount=True).\n"
          ]
        }
      ],
      "source": [
        "from google.colab import drive\n",
        "drive.mount('/content/drive')"
      ]
    },
    {
      "cell_type": "code",
      "source": [
        "# file path (github)\n",
        "cd /content/drive/MyDrive/Colab Notebooks/Korea Univ/intelligent_control"
      ],
      "metadata": {
        "colab": {
          "base_uri": "https://localhost:8080/",
          "height": 137
        },
        "id": "6XvwhkTMIICT",
        "outputId": "508bc217-eca3-4b5e-fbb2-2e3ca2adfdb9"
      },
      "execution_count": null,
      "outputs": [
        {
          "output_type": "error",
          "ename": "SyntaxError",
          "evalue": "ignored",
          "traceback": [
            "\u001b[0;36m  File \u001b[0;32m\"<ipython-input-18-5c9483c7e5b3>\"\u001b[0;36m, line \u001b[0;32m2\u001b[0m\n\u001b[0;31m    cd /content/drive/MyDrive/Colab Notebooks/Korea Univ/intelligent_control\u001b[0m\n\u001b[0m                                            ^\u001b[0m\n\u001b[0;31mSyntaxError\u001b[0m\u001b[0;31m:\u001b[0m invalid syntax\n"
          ]
        }
      ]
    },
    {
      "cell_type": "code",
      "source": [
        "# for executing MATLAB code\n",
        "!apt install octave"
      ],
      "metadata": {
        "id": "oGD6OawOwZXb",
        "colab": {
          "base_uri": "https://localhost:8080/"
        },
        "outputId": "07666dd0-799f-48fa-bf96-60f23bb72e74"
      },
      "execution_count": null,
      "outputs": [
        {
          "output_type": "stream",
          "name": "stdout",
          "text": [
            "Processing triggers for man-db (2.8.3-2ubuntu0.1) ...\n",
            "Processing triggers for hicolor-icon-theme (0.17-2) ...\n"
          ]
        }
      ]
    },
    {
      "cell_type": "code",
      "source": [
        "%%writefile test.m\n",
        "% type the code under line\n",
        "\n",
        "array = [0:0.05:1]\n",
        "disp(array)"
      ],
      "metadata": {
        "colab": {
          "base_uri": "https://localhost:8080/"
        },
        "id": "_qlYdNpqpjwj",
        "outputId": "b719a42c-dde6-4076-a71e-00224df111f8"
      },
      "execution_count": null,
      "outputs": [
        {
          "output_type": "stream",
          "name": "stdout",
          "text": [
            "Overwriting test.m\n"
          ]
        }
      ]
    },
    {
      "cell_type": "code",
      "source": [
        "# -W : no window system\n",
        "!octave -W test.m"
      ],
      "metadata": {
        "colab": {
          "base_uri": "https://localhost:8080/"
        },
        "id": "HpfU2kqJ4t14",
        "outputId": "b44ee6f4-5e55-456f-f4a1-ac2f336a8256"
      },
      "execution_count": null,
      "outputs": [
        {
          "output_type": "stream",
          "name": "stdout",
          "text": [
            "warning: function ./test.m shadows a core library function\n",
            "array =\n",
            "\n",
            " Columns 1 through 8:\n",
            "\n",
            "   0.00000   0.05000   0.10000   0.15000   0.20000   0.25000   0.30000   0.35000\n",
            "\n",
            " Columns 9 through 16:\n",
            "\n",
            "   0.40000   0.45000   0.50000   0.55000   0.60000   0.65000   0.70000   0.75000\n",
            "\n",
            " Columns 17 through 21:\n",
            "\n",
            "   0.80000   0.85000   0.90000   0.95000   1.00000\n",
            "\n",
            " Columns 1 through 8:\n",
            "\n",
            "   0.00000   0.05000   0.10000   0.15000   0.20000   0.25000   0.30000   0.35000\n",
            "\n",
            " Columns 9 through 16:\n",
            "\n",
            "   0.40000   0.45000   0.50000   0.55000   0.60000   0.65000   0.70000   0.75000\n",
            "\n",
            " Columns 17 through 21:\n",
            "\n",
            "   0.80000   0.85000   0.90000   0.95000   1.00000\n",
            "ans =  0.20000\n"
          ]
        }
      ]
    },
    {
      "cell_type": "code",
      "source": [
        "%%writefile bs.m\n",
        "\n",
        "s=100\n",
        "x=100\n",
        "r=0.05\n",
        "v=0.2\n",
        "t=1\n",
        "\n",
        "%%Black and Scholes in matlab\n",
        "\n",
        "d1=(log(s/x)+(r+v^2/2)*t)/(v*sqrt(t));\n",
        "d2=d1-v*sqrt(t);\n",
        "c=s*normcdf(d1)-x*exp(-r*t)*normcdf(d2)\n",
        "\n",
        "%display(c)"
      ],
      "metadata": {
        "colab": {
          "base_uri": "https://localhost:8080/"
        },
        "id": "M9JX6t7azX_y",
        "outputId": "9869bc86-50a9-47da-8a30-5c17df5992fd"
      },
      "execution_count": null,
      "outputs": [
        {
          "output_type": "stream",
          "name": "stdout",
          "text": [
            "Overwriting bs.m\n"
          ]
        }
      ]
    },
    {
      "cell_type": "code",
      "source": [
        "!octave -W bs.m"
      ],
      "metadata": {
        "colab": {
          "base_uri": "https://localhost:8080/"
        },
        "id": "zbxfevb7z7gv",
        "outputId": "97e15c30-7534-49e2-8939-c65b95762766"
      },
      "execution_count": null,
      "outputs": [
        {
          "output_type": "stream",
          "name": "stdout",
          "text": [
            "s =  100\n",
            "x =  100\n",
            "r =  0.050000\n",
            "v =  0.20000\n",
            "t =  1\n",
            "c =  10.451\n"
          ]
        }
      ]
    }
  ]
}